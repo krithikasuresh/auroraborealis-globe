{
 "cells": [
  {
   "cell_type": "code",
   "execution_count": 14,
   "metadata": {
    "collapsed": true
   },
   "outputs": [],
   "source": [
    "from bs4 import BeautifulSoup\n",
    "import requests\n",
    "import json\n",
    "import re"
   ]
  },
  {
   "cell_type": "code",
   "execution_count": 15,
   "metadata": {
    "collapsed": false
   },
   "outputs": [],
   "source": [
    "r = requests.get(\"http://services.swpc.noaa.gov/text/aurora-nowcast-map.txt\")"
   ]
  },
  {
   "cell_type": "code",
   "execution_count": 16,
   "metadata": {
    "collapsed": false
   },
   "outputs": [],
   "source": [
    "soup = BeautifulSoup(r.text, 'lxml')"
   ]
  },
  {
   "cell_type": "code",
   "execution_count": 17,
   "metadata": {
    "collapsed": false
   },
   "outputs": [],
   "source": [
    "text = soup.find('p').text"
   ]
  },
  {
   "cell_type": "code",
   "execution_count": 18,
   "metadata": {
    "collapsed": false
   },
   "outputs": [],
   "source": [
    "regex = r\" +\"\n",
    "lines = text.split('\\n')"
   ]
  },
  {
   "cell_type": "code",
   "execution_count": 19,
   "metadata": {
    "collapsed": false
   },
   "outputs": [],
   "source": [
    "i = 0\n",
    "while True:\n",
    "    if lines[i].strip()[0] != \"#\":\n",
    "        break\n",
    "    i += 1\n",
    "    "
   ]
  },
  {
   "cell_type": "code",
   "execution_count": 20,
   "metadata": {
    "collapsed": false
   },
   "outputs": [
    {
     "name": "stdout",
     "output_type": "stream",
     "text": [
      "512\n"
     ]
    }
   ],
   "source": [
    "data_lines = lines[i:-1]\n",
    "data = list(map(lambda x: re.split(regex, x)[1:], data_lines))\n",
    "\n",
    "print len(data)"
   ]
  },
  {
   "cell_type": "code",
   "execution_count": 21,
   "metadata": {
    "collapsed": false
   },
   "outputs": [],
   "source": [
    "#checks if there are any sets that aren't 1024 values long (so shouldn't show anything)\n",
    "for i in data:\n",
    "    if len(i) != 1024:\n",
    "        print(i)\n",
    "        print(len(i))\n",
    "        break"
   ]
  },
  {
   "cell_type": "code",
   "execution_count": 22,
   "metadata": {
    "collapsed": false
   },
   "outputs": [],
   "source": [
    "#latitude inc, longitude inc, points array to hold data\n",
    "lat_inc = 0.3515625\n",
    "long_inc = 0.32846715\n",
    "points = []"
   ]
  },
  {
   "cell_type": "code",
   "execution_count": 23,
   "metadata": {
    "collapsed": false
   },
   "outputs": [
    {
     "name": "stdout",
     "output_type": "stream",
     "text": [
      "(-90.0, 0, u'0')\n"
     ]
    }
   ],
   "source": [
    "for i, group in enumerate(data):\n",
    "    for j in group:\n",
    "        points.append((-90 + lat_inc*i, 0, j))\n",
    "print points[314]"
   ]
  },
  {
   "cell_type": "code",
   "execution_count": 24,
   "metadata": {
    "collapsed": false
   },
   "outputs": [
    {
     "name": "stdout",
     "output_type": "stream",
     "text": [
      "[-90.0, -179.67153285, u'0']\n",
      "524288\n",
      "0\n"
     ]
    }
   ],
   "source": [
    "mult = 0\n",
    "#hold the correctly formatted array of data \n",
    "new_points = []\n",
    "for i, p in enumerate(points):\n",
    "    if i and i % 1024 == 0:\n",
    "        mult = 0\n",
    "    new_points.append([p[0], -180 + long_inc*mult, p[2]])\n",
    "    mult += 1\n",
    "\n",
    "print new_points[1]\n",
    "print len(new_points)\n",
    "print new_points[1][2]"
   ]
  },
  {
   "cell_type": "code",
   "execution_count": 37,
   "metadata": {
    "collapsed": false
   },
   "outputs": [
    {
     "name": "stdout",
     "output_type": "stream",
     "text": [
      "53334\n"
     ]
    }
   ],
   "source": [
    "zeros = 0\n",
    "nothing = 0\n",
    "clean_data = []\n",
    "\n",
    "\n",
    "for i in range(len(new_points)):\n",
    "    if i % 3 == 0: \n",
    "        if float(new_points[i][2]) >  10:\n",
    "            if int(new_points[i][1] != int(new_points[i+1][1])):\n",
    "                if int(new_points[i][0] != int(new_points[i+1][0])):\n",
    "                    clean_data = clean_data + [int(new_points[i][0]), int(new_points[i][1]), (float(new_points[i][2])/100)]\n",
    "        else:\n",
    "            zeros += 1\n",
    "\n",
    "#print zeros\n",
    "#print nothing\n",
    "#print nothing + zeros\n",
    "print len(clean_data)\n",
    "#print len(clean_data) + zeros\n",
    "#print clean_data"
   ]
  },
  {
   "cell_type": "code",
   "execution_count": 26,
   "metadata": {
    "collapsed": false
   },
   "outputs": [],
   "source": [
    "final_data = [[\"Aurora Borealis View Prediction\", clean_data]]"
   ]
  },
  {
   "cell_type": "code",
   "execution_count": 27,
   "metadata": {
    "collapsed": true
   },
   "outputs": [],
   "source": [
    "with open('cleanAuroraData.json', 'w') as outfile:\n",
    "    json.dump(final_data, outfile)"
   ]
  },
  {
   "cell_type": "code",
   "execution_count": null,
   "metadata": {
    "collapsed": true
   },
   "outputs": [],
   "source": []
  },
  {
   "cell_type": "code",
   "execution_count": null,
   "metadata": {
    "collapsed": true
   },
   "outputs": [],
   "source": []
  }
 ],
 "metadata": {
  "kernelspec": {
   "display_name": "Python 2",
   "language": "python",
   "name": "python2"
  },
  "language_info": {
   "codemirror_mode": {
    "name": "ipython",
    "version": 2
   },
   "file_extension": ".py",
   "mimetype": "text/x-python",
   "name": "python",
   "nbconvert_exporter": "python",
   "pygments_lexer": "ipython2",
   "version": "2.7.11"
  }
 },
 "nbformat": 4,
 "nbformat_minor": 0
}
